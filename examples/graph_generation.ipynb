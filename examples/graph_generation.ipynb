{
 "cells": [
  {
   "cell_type": "markdown",
   "metadata": {},
   "source": [
    "# DeepMeta : Graph Generation\n",
    "This is an example to show how to generate some graphs from the output of the network.\n"
   ]
  },
  {
   "cell_type": "code",
   "execution_count": 24,
   "metadata": {
    "pycharm": {
     "name": "#%%\n"
    }
   },
   "outputs": [],
   "source": [
    "import os\n",
    "import numpy as np\n",
    "import matplotlib.pyplot as plt\n",
    "import pandas as pd\n",
    "import seaborn as sns\n",
    "\n",
    "import DeepMeta.predict as p\n",
    "import DeepMeta.utils.data as data\n",
    "import DeepMeta.utils.global_vars as gv\n",
    "import DeepMeta.utils.utils as utils\n",
    "import DeepMeta.postprocessing.post_process_and_count as post_count\n",
    "\n",
    "%matplotlib inline"
   ]
  },
  {
   "cell_type": "markdown",
   "metadata": {},
   "source": [
    "## Data preparation\n",
    "First, we need to create a dataset containing our images. To handle easily different mutation we will create two lists representing each mutation. Each element will be a couple, composed by the full path of the image and it's name (we can find the name from the path, but since we already have it, it reduce the computation cost)."
   ]
  },
  {
   "cell_type": "code",
   "execution_count": 25,
   "metadata": {
    "pycharm": {
     "name": "#%%\n"
    }
   },
   "outputs": [],
   "source": [
    "iL34 = []\n",
    "LacZ = []\n",
    "mouselist_il34 = [\"44_2PLc_day22.tif\", \"45_2PLc_day29.tif\", \"46_2PLc_day36.tif\", \"47_2PLc_day43.tif\", \"48_2PLc_day50.tif\", \"49_2PLc_day57.tif\", \"50_2PLc_day64.tif\", \"51_2PLc_day71.tif\", \"52_2PLc_day78.tif\", \"53_2PLc_day85.tif\", \"54_2PLc_day92.tif\", \"55_2PLc_day99.tif\", \"56_2PLc_day106.tif\", \"57_2PLc_day113.tif\", \"58_2PLc_day120.tif\"]\n",
    "mouselist_LacZ = [\"0_m2P_day6.tif\", \"1_m2P_day12.tif\", \"2_m2P_day19.tif\", \"3_m2P_day25.tif\", \"4_m2P_day32.tif\",]"
   ]
  },
  {
   "cell_type": "code",
   "execution_count": 26,
   "metadata": {
    "pycharm": {
     "name": "#%%\n"
    }
   },
   "outputs": [],
   "source": [
    "for mousename in mouselist_il34:\n",
    "    MOUSE_PATH = os.path.join(gv.PATH_DATA, \"Original_Data/iL34_1c\", mousename)\n",
    "    iL34.append((MOUSE_PATH, mousename))\n",
    "\n",
    "for mousename in mouselist_LacZ:\n",
    "    MOUSE_PATH = os.path.join(gv.PATH_DATA, \"Original_Data/LacZ\", mousename)\n",
    "    LacZ.append((MOUSE_PATH, mousename))"
   ]
  },
  {
   "cell_type": "markdown",
   "metadata": {},
   "source": [
    "## Function declaration\n",
    "\n",
    "In this section, we will declare some function we will need to create the graph. \n",
    "\n",
    "First, `get_day` will help us to find the day in the mousename in order to put it in our csv later."
   ]
  },
  {
   "cell_type": "code",
   "execution_count": 27,
   "metadata": {
    "pycharm": {
     "name": "#%%\n"
    }
   },
   "outputs": [],
   "source": [
    "def get_day(mousename):\n",
    "    return mousename.split('day')[1].split(\".\")[0]"
   ]
  },
  {
   "cell_type": "markdown",
   "metadata": {},
   "source": [
    "The function above is just the processing done in `pipeline.py`, it runs inference on mouse images and return postprocessed masks."
   ]
  },
  {
   "cell_type": "code",
   "execution_count": 28,
   "metadata": {
    "pycharm": {
     "name": "#%%\n"
    }
   },
   "outputs": [],
   "source": [
    "def process_mouse(mouse, contrast=True):\n",
    "    path_model_lungs = \"../data/saved_models/Poumons/best_seg_model_weighted.h5\"\n",
    "    path_model_metas = \"../data/saved_models/Metastases/best_seg_weighted.h5\"\n",
    "    utils.print_red(mouse[1])\n",
    "    dataset = data.get_predict_dataset(mouse[0], contrast)\n",
    "\n",
    "    seg_lungs = p.predict_seg(dataset, path_model_lungs).reshape(128, 128, 128)\n",
    "    seg_lungs = p.postprocess_loop(seg_lungs)\n",
    "\n",
    "    seg_metas = seg_lungs * p.predict_seg(dataset, path_model_metas).reshape(\n",
    "        128, 128, 128\n",
    "    )\n",
    "    seg_metas = p.postprocess_meta(seg_metas, k1=3, k2=3)\n",
    "    return seg_lungs, seg_metas"
   ]
  },
  {
   "cell_type": "markdown",
   "metadata": {},
   "source": [
    "The function `process_value` is also some code from pipeline.py, this block process all volume informations we may want to use in plots."
   ]
  },
  {
   "cell_type": "code",
   "execution_count": 29,
   "metadata": {
    "pycharm": {
     "name": "#%%\n"
    }
   },
   "outputs": [],
   "source": [
    "def process_values(out_lungs, out_metas):\n",
    "    vol = 0\n",
    "    for mask in out_lungs:\n",
    "        vol += post_count.vol_mask(mask)\n",
    "    vol_meta = 0\n",
    "    vol_per_meta = 0\n",
    "    meta_slice = 0\n",
    "    for i, meta_mask in enumerate(out_metas):\n",
    "        if np.amax(meta_mask) == 1.0:\n",
    "            vol_meta += post_count.vol_mask(meta_mask)\n",
    "            vol_per_meta += post_count.mean_vol_per_meta(meta_mask)\n",
    "            meta_slice += 1\n",
    "    vol_per_meta /= meta_slice\n",
    "    return vol, vol_meta, vol_per_meta"
   ]
  },
  {
   "cell_type": "markdown",
   "metadata": {},
   "source": [
    "Last but not least, here are the function to create and fulfill the csv file. The csv header and the information we will write in should be matching, otherwise, the plot will fail. \n",
    "\n",
    "> Be carefull, the csv file you use should not exist"
   ]
  },
  {
   "cell_type": "code",
   "execution_count": 30,
   "metadata": {
    "pycharm": {
     "name": "#%%\n"
    }
   },
   "outputs": [],
   "source": [
    "def write_in_csv(filename, mousename, day, vol_meta, mutation):\n",
    "    check_and_create_file(filename)\n",
    "    f = open(filename, \"a\")\n",
    "    f.write(mousename + \",\" + day + \",\" + str(vol_meta) + \",\" + mutation + \"\\n\")\n",
    "    f.close()\n",
    "\n",
    "def check_and_create_file(path):\n",
    "    if not os.path.isfile(path):\n",
    "        f = open(path, \"a+\")\n",
    "        f.write(\"name,day,vol_meta,Mutation\\n\")\n",
    "        f.close()"
   ]
  },
  {
   "cell_type": "markdown",
   "metadata": {},
   "source": [
    "## Run and Draw"
   ]
  },
  {
   "cell_type": "code",
   "execution_count": 31,
   "metadata": {
    "pycharm": {
     "name": "#%%\n"
    }
   },
   "outputs": [
    {
     "name": "stdout",
     "output_type": "stream",
     "text": [
      "\u001B[91m44_2PLc_day22.tif\u001B[00m\n",
      "\u001B[91m45_2PLc_day29.tif\u001B[00m\n",
      "\u001B[91m46_2PLc_day36.tif\u001B[00m\n",
      "\u001B[91m47_2PLc_day43.tif\u001B[00m\n",
      "\u001B[91m48_2PLc_day50.tif\u001B[00m\n",
      "\u001B[91m49_2PLc_day57.tif\u001B[00m\n",
      "\u001B[91m50_2PLc_day64.tif\u001B[00m\n",
      "\u001B[91m51_2PLc_day71.tif\u001B[00m\n",
      "\u001B[91m52_2PLc_day78.tif\u001B[00m\n",
      "\u001B[91m53_2PLc_day85.tif\u001B[00m\n",
      "\u001B[91m54_2PLc_day92.tif\u001B[00m\n",
      "\u001B[91m55_2PLc_day99.tif\u001B[00m\n",
      "\u001B[91m56_2PLc_day106.tif\u001B[00m\n",
      "\u001B[91m57_2PLc_day113.tif\u001B[00m\n",
      "\u001B[91m58_2PLc_day120.tif\u001B[00m\n",
      "\u001B[91m0_m2P_day6.tif\u001B[00m\n",
      "\u001B[91m1_m2P_day12.tif\u001B[00m\n",
      "\u001B[91m2_m2P_day19.tif\u001B[00m\n",
      "\u001B[91m3_m2P_day25.tif\u001B[00m\n",
      "\u001B[91m4_m2P_day32.tif\u001B[00m\n"
     ]
    }
   ],
   "source": [
    "csv_path = \"../data/results/lacz_vs_il34c2.csv\"\n",
    "\n",
    "for mouse in iL34:\n",
    "    seg_lungs, seg_metas = process_mouse(mouse)\n",
    "    vol, vol_meta, vol_per_meta = process_values(seg_lungs, seg_metas)\n",
    "    write_in_csv(csv_path, mouse[1], get_day(mouse[1]), vol_meta, \"il34c\")\n",
    "\n",
    "for mouse in LacZ:\n",
    "    seg_lungs, seg_metas = process_mouse(mouse)\n",
    "    vol, vol_meta, vol_per_meta = process_values(seg_lungs, seg_metas)\n",
    "    write_in_csv(csv_path, mouse[1], get_day(mouse[1]), vol_meta, \"LacZ\")"
   ]
  },
  {
   "cell_type": "markdown",
   "metadata": {},
   "source": [
    "Once we have fulfill the csv, we can parse it with Pandas and use our dataframe to plot our graph."
   ]
  },
  {
   "cell_type": "code",
   "execution_count": 32,
   "metadata": {
    "pycharm": {
     "name": "#%%\n"
    }
   },
   "outputs": [
    {
     "name": "stdout",
     "output_type": "stream",
     "text": [
      "                  name  day  vol_meta Mutation\n",
      "0    44_2PLc_day22.tif   22    4.3898    il34c\n",
      "1    45_2PLc_day29.tif   29    6.9278    il34c\n",
      "2    46_2PLc_day36.tif   36    4.3193    il34c\n",
      "3    47_2PLc_day43.tif   43    4.7423    il34c\n",
      "4    48_2PLc_day50.tif   50    9.2355    il34c\n",
      "5    49_2PLc_day57.tif   57   10.8288    il34c\n",
      "6    50_2PLc_day64.tif   64   13.6159    il34c\n",
      "7    51_2PLc_day71.tif   71   19.1196    il34c\n",
      "8    52_2PLc_day78.tif   78   33.7742    il34c\n",
      "9    53_2PLc_day85.tif   85   31.6404    il34c\n",
      "10   54_2PLc_day92.tif   92   48.6027    il34c\n",
      "11   55_2PLc_day99.tif   99   65.9598    il34c\n",
      "12  56_2PLc_day106.tif  106   86.7902    il34c\n",
      "13  57_2PLc_day113.tif  113  118.1016    il34c\n",
      "14  58_2PLc_day120.tif  120  149.8078    il34c\n",
      "15      0_m2P_day6.tif    6    4.8833     LacZ\n",
      "16     1_m2P_day12.tif   12    4.8739     LacZ\n",
      "17     2_m2P_day19.tif   19   11.3740     LacZ\n",
      "18     3_m2P_day25.tif   25   67.0079     LacZ\n",
      "19     4_m2P_day32.tif   32   62.4630     LacZ\n"
     ]
    }
   ],
   "source": [
    "data = pd.read_csv(csv_path)\n",
    "df = pd.DataFrame(data)\n",
    "print(df)"
   ]
  },
  {
   "cell_type": "code",
   "execution_count": 33,
   "metadata": {
    "pycharm": {
     "name": "#%%\n"
    }
   },
   "outputs": [
    {
     "data": {
      "image/png": "[encoded data removed]",
      "text/plain": [
       "<Figure size 648x432 with 1 Axes>"
      ]
     },
     "metadata": {},
     "output_type": "display_data"
    }
   ],
   "source": [
    "sns.set_theme(style=\"whitegrid\")\n",
    "ax = sns.catplot(x=\"day\", y=\"vol_meta\", hue=\"Mutation\", data=df, kind=\"bar\", ci=None, palette=\"rocket\", height=6, aspect=1.5, dodge=False, legend_out=False)\n",
    "ax.set(xlabel=\"Day\", ylabel=\"Metas volume (mm3)\", title=\"LacZ vs iL34c\")\n",
    "plt.tight_layout()\n",
    "plt.show()\n"
   ]
  }
 ],
 "metadata": {
  "kernelspec": {
   "display_name": "Python 3",
   "language": "python",
   "name": "python3"
  },
  "language_info": {
   "codemirror_mode": {
    "name": "ipython",
    "version": 3
   },
   "file_extension": ".py",
   "mimetype": "text/x-python",
   "name": "python",
   "nbconvert_exporter": "python",
   "pygments_lexer": "ipython3",
   "version": "3.8.5"
  }
 },
 "nbformat": 4,
 "nbformat_minor": 1
}
