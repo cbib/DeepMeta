{
 "cells": [
  {
   "cell_type": "markdown",
   "metadata": {
    "collapsed": true,
    "pycharm": {
     "name": "#%% md\n"
    }
   },
   "source": [
    "# Deepmeta Train model\n",
    "\n",
    "In this notebook, we will create a hyper parameter object containing all our hyper parameters, select images and train a network."
   ]
  },
  {
   "cell_type": "code",
   "execution_count": null,
   "outputs": [],
   "source": [
    "import DeepMeta.train as d_t\n",
    "import DeepMeta.utils.global_vars as gv"
   ],
   "metadata": {
    "collapsed": false,
    "pycharm": {
     "name": "#%%\n"
    }
   }
  },
  {
   "cell_type": "markdown",
   "source": [
    "First, we need to create an object containing all our hyper parameters.\n",
    "When you run the train script from Deepmeta, this object is create by parsing command line arguments."
   ],
   "metadata": {
    "collapsed": false,
    "pycharm": {
     "name": "#%% md\n"
    }
   }
  },
  {
   "cell_type": "code",
   "execution_count": null,
   "outputs": [],
   "source": [
    "conf = {\n",
    "    \"n_epochs\": 200,  # number of epochs\n",
    "    \"batch_size\": 128, # size of batches\n",
    "    \"lr\": 0.001, # learning rate value\n",
    "    \"model_name\": \"small++\", # name of the model to use (unet or small++)\n",
    "    \"meta\": False, # do you want to segment metas ?\n",
    "    \"weighted\": True, # Do you want to use weighted cross entropy\n",
    "    \"w1\": 2, # Inside weight\n",
    "    \"w2\": 4, # Border weight\n",
    "    \"size\": 128, # Image size\n",
    "    \"drop_r\": 0.2, # Dropout rate\n",
    "    \"filters\": 16, # Number of filters in the first conv block\n",
    "    \"patience\": 10, # Patience for early stopper\n",
    "}"
   ],
   "metadata": {
    "collapsed": false,
    "pycharm": {
     "name": "#%%\n"
    }
   }
  },
  {
   "cell_type": "markdown",
   "source": [
    "Once we have created our hyper parameters object, we just need to call the training function.\n",
    "This function will load the dataset, the model, then train the model, save the weights and plot the training curve.\n",
    "> We assume that the global vars script is correctly fulfill."
   ],
   "metadata": {
    "collapsed": false,
    "pycharm": {
     "name": "#%% md\n"
    }
   }
  },
  {
   "cell_type": "code",
   "execution_count": null,
   "outputs": [],
   "source": [
    "d_t.train(\n",
    "        conf,\n",
    "        path_images=gv.path_img,\n",
    "        path_labels=gv.path_lab,\n",
    "        hp_search=False,\n",
    "    )"
   ],
   "metadata": {
    "collapsed": false,
    "pycharm": {
     "name": "#%%\n"
    }
   }
  },
  {
   "cell_type": "markdown",
   "source": [
    "TODO : ADD FILTER VIZ"
   ],
   "metadata": {
    "collapsed": false,
    "pycharm": {
     "name": "#%% md\n"
    }
   }
  }
 ],
 "metadata": {
  "kernelspec": {
   "display_name": "Python 3",
   "language": "python",
   "name": "python3"
  },
  "language_info": {
   "codemirror_mode": {
    "name": "ipython",
    "version": 2
   },
   "file_extension": ".py",
   "mimetype": "text/x-python",
   "name": "python",
   "nbconvert_exporter": "python",
   "pygments_lexer": "ipython2",
   "version": "2.7.6"
  }
 },
 "nbformat": 4,
 "nbformat_minor": 0
}
